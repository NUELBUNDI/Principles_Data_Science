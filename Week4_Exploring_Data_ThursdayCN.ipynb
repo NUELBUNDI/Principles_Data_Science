{
  "nbformat": 4,
  "nbformat_minor": 0,
  "metadata": {
    "jupytext": {
      "formats": "ipynb,py:light"
    },
    "kernelspec": {
      "display_name": "Python 3",
      "language": "python",
      "name": "python3"
    },
    "language_info": {
      "codemirror_mode": {
        "name": "ipython",
        "version": 3
      },
      "file_extension": ".py",
      "mimetype": "text/x-python",
      "name": "python",
      "nbconvert_exporter": "python",
      "pygments_lexer": "ipython3",
      "version": "3.6.4"
    },
    "colab": {
      "name": "Week4 Exploring Data-ThursdayCN.ipynb",
      "provenance": [],
      "include_colab_link": true
    }
  },
  "cells": [
    {
      "cell_type": "markdown",
      "metadata": {
        "id": "view-in-github",
        "colab_type": "text"
      },
      "source": [
        "<a href=\"https://colab.research.google.com/github/NUELBUNDI/Principles_Data_Science/blob/main/Week4_Exploring_Data_ThursdayCN.ipynb\" target=\"_parent\"><img src=\"https://colab.research.google.com/assets/colab-badge.svg\" alt=\"Open In Colab\"/></a>"
      ]
    },
    {
      "cell_type": "code",
      "metadata": {
        "id": "32mhTfpEKZvg"
      },
      "source": [
        "#Include libraries to be used\n",
        "%matplotlib inline\n",
        "import pandas as pd\n",
        "import seaborn as sns\n"
      ],
      "execution_count": null,
      "outputs": []
    },
    {
      "cell_type": "code",
      "metadata": {
        "id": "srXfoohLKeP4"
      },
      "source": [
        "#Import dataset\n",
        "#df = pd.read_excel(\"http://qrc.depaul.edu/Excel_Files/Presidents.xls\") #pip install xlrd\n",
        "df = pd.read_csv('https://raw.githubusercontent.com/chrisnjunge/DStest/master/soccerratings.csv')\n",
        "#df = pd.read_csv('https://raw.githubusercontent.com/chrisnjunge/DStest/master/W3Store7.csv')"
      ],
      "execution_count": null,
      "outputs": []
    },
    {
      "cell_type": "code",
      "metadata": {
        "id": "eR3zxu-hUnLd"
      },
      "source": [
        "#df = df2[[\"Name\",\"Nationality\",\"Club\",\"Club_Position\",\"Rating\",\"Height\",\"Weight\",\"Birth_Date\",\"Age\",\"Work_Rate\",\"Weak_foot\"]]"
      ],
      "execution_count": null,
      "outputs": []
    },
    {
      "cell_type": "code",
      "metadata": {
        "id": "aHfuC4QrKZvo"
      },
      "source": [
        "df.shape"
      ],
      "execution_count": null,
      "outputs": []
    },
    {
      "cell_type": "code",
      "metadata": {
        "id": "lKCjHY-TKZvp"
      },
      "source": [
        "def create_agebin(df):\n",
        "    return pd.cut(df.Age, bins=5, labels=[str(x) for x in range(1, 6)])\n",
        "\n",
        "cs2 = lambda df: pd.cut(df.Age, bins=5, labels=[str(x) for x in range(1, 6)])\n",
        "\n",
        "def clean_col(col):\n",
        "  return col.replace(' ', '').replace('.', '').replace('/', '')\n",
        "\n",
        "def tweak_alta(df):\n",
        "  return (df\n",
        "      .rename(columns=clean_col)\n",
        "      .assign(Birth_Date=pd.to_datetime(df.Birth_Date),\n",
        "              AGEBIN=create_agebin,\n",
        "              #AGEBIN=lambda df_: pd.cut(df_.Age, bins=10, labels=[str(x) for x in range(1, 11)]),\n",
        "              MONTH=lambda df_: df_.Birth_Date.dt.month,\n",
        "              QTR=lambda df_: df_.Birth_Date.dt.quarter,\n",
        "              YEAR=lambda df_: df_.Birth_Date.dt.year,\n",
        "              DAY=lambda df_: df_.Birth_Date.dt.day_name())\n",
        "      [[\"Name\",\"Nationality\",\"Club\",\"Club_Position\",\"Rating\",\"Height\",\"Weight\",\"Birth_Date\",\"Age\",\"AGEBIN\",\"Work_Rate\",\"Weak_foot\",\"MONTH\",\"QTR\",\"YEAR\",\"DAY\"]]\n",
        "\n",
        "  )\n"
      ],
      "execution_count": null,
      "outputs": []
    },
    {
      "cell_type": "code",
      "metadata": {
        "id": "soH9cgG0dDO-"
      },
      "source": [
        "df = tweak_alta(df)"
      ],
      "execution_count": null,
      "outputs": []
    },
    {
      "cell_type": "code",
      "metadata": {
        "id": "SDfxqBWbf3In",
        "colab": {
          "base_uri": "https://localhost:8080/"
        },
        "outputId": "1854d165-4816-49c9-d1a4-92d653242c9e"
      },
      "source": [
        "df.columns"
      ],
      "execution_count": null,
      "outputs": [
        {
          "output_type": "execute_result",
          "data": {
            "text/plain": [
              "Index(['Name', 'Nationality', 'Club', 'Club_Position', 'Rating', 'Height',\n",
              "       'Weight', 'Birth_Date', 'Age', 'AGEBIN', 'Work_Rate', 'Weak_foot',\n",
              "       'MONTH', 'QTR', 'YEAR', 'DAY'],\n",
              "      dtype='object')"
            ]
          },
          "metadata": {},
          "execution_count": 8
        }
      ]
    },
    {
      "cell_type": "code",
      "metadata": {
        "id": "8Jpk2GaZdQ0u"
      },
      "source": [
        "df.MONTH.value_counts()"
      ],
      "execution_count": null,
      "outputs": []
    },
    {
      "cell_type": "code",
      "metadata": {
        "id": "dbVuw18DKZvp"
      },
      "source": [
        "# Categorical Data\n",
        "df.MONTH.value_counts(dropna=False)"
      ],
      "execution_count": null,
      "outputs": []
    },
    {
      "cell_type": "code",
      "metadata": {
        "id": "mC9gsAlbKZvp"
      },
      "source": [
        "df.MONTH.value_counts().plot.barh()"
      ],
      "execution_count": null,
      "outputs": []
    },
    {
      "cell_type": "code",
      "metadata": {
        "id": "hcWglAHNKZvr"
      },
      "source": [
        "# Numeric (Ordinal)\n",
        "df.Age.mean()"
      ],
      "execution_count": null,
      "outputs": []
    },
    {
      "cell_type": "code",
      "metadata": {
        "id": "S1evFHEiKZvr"
      },
      "source": [
        "df.Age.max()"
      ],
      "execution_count": null,
      "outputs": []
    },
    {
      "cell_type": "code",
      "metadata": {
        "id": "g9q83W02KZvs"
      },
      "source": [
        "df.Age.quantile(.99)"
      ],
      "execution_count": null,
      "outputs": []
    },
    {
      "cell_type": "code",
      "metadata": {
        "id": "RwHNaImzKZvs"
      },
      "source": [
        "df.Age.quantile([.6, .8])"
      ],
      "execution_count": null,
      "outputs": []
    },
    {
      "cell_type": "code",
      "metadata": {
        "id": "BcfGAH5xKZvs"
      },
      "source": [
        "df.Age.describe()"
      ],
      "execution_count": null,
      "outputs": []
    },
    {
      "cell_type": "code",
      "metadata": {
        "id": "8XFEeb21KZvt"
      },
      "source": [
        "df.Age.plot.hist()"
      ],
      "execution_count": null,
      "outputs": []
    },
    {
      "cell_type": "code",
      "metadata": {
        "id": "cgShy8BcKZvt"
      },
      "source": [
        "# Are there outliers\n",
        "df.Age.plot.box()"
      ],
      "execution_count": null,
      "outputs": []
    },
    {
      "cell_type": "code",
      "metadata": {
        "id": "oT7tBXd4KZvu"
      },
      "source": [
        "# can also describe a dataframe\n",
        "df.describe()"
      ],
      "execution_count": null,
      "outputs": []
    },
    {
      "cell_type": "code",
      "metadata": {
        "lines_to_next_cell": 2,
        "id": "CyHmH9GiKZvv"
      },
      "source": [
        "# Relationships - Numeric to Numeric\n",
        "df.Age.corr(df.Rating)"
      ],
      "execution_count": null,
      "outputs": []
    },
    {
      "cell_type": "code",
      "metadata": {
        "id": "CoA1YONiKZvv"
      },
      "source": [
        "df.plot.scatter(x='Age', y='Rating')"
      ],
      "execution_count": null,
      "outputs": []
    },
    {
      "cell_type": "code",
      "metadata": {
        "id": "yWtJc4tMKZvw"
      },
      "source": [
        "df.plot.scatter(x='Age', y='Rating', alpha=.2)"
      ],
      "execution_count": null,
      "outputs": []
    },
    {
      "cell_type": "code",
      "metadata": {
        "id": "fVoYO36fKZvx"
      },
      "source": [
        "# Density\n",
        "df.plot.hexbin(x='Age', y='Rating', gridsize=20, cmap='viridis')"
      ],
      "execution_count": null,
      "outputs": []
    },
    {
      "cell_type": "code",
      "metadata": {
        "id": "FFfO4bupKZvy"
      },
      "source": [
        "sns.relplot(x='Age', y='Rating', data=df)"
      ],
      "execution_count": null,
      "outputs": []
    },
    {
      "cell_type": "code",
      "metadata": {
        "id": "YVy27KSeRwEA"
      },
      "source": [
        "df.columns"
      ],
      "execution_count": null,
      "outputs": []
    },
    {
      "cell_type": "code",
      "metadata": {
        "id": "PvlDB93mKZvy"
      },
      "source": [
        "sns.relplot(x='Age', y='Rating', data=df, hue='QTR')"
      ],
      "execution_count": null,
      "outputs": []
    },
    {
      "cell_type": "code",
      "metadata": {
        "id": "cTtVvfVqKZvy"
      },
      "source": [
        "sns.relplot(x='Age', y='Rating', data=df, col='QTR', col_wrap=2, alpha=.1)"
      ],
      "execution_count": null,
      "outputs": []
    },
    {
      "cell_type": "code",
      "metadata": {
        "id": "-mdow5FJKZvz"
      },
      "source": [
        "sns.lmplot(x='Age', y='Rating', data=df)"
      ],
      "execution_count": null,
      "outputs": []
    },
    {
      "cell_type": "code",
      "metadata": {
        "id": "sX7jJCQdKZvz"
      },
      "source": [
        "# lower alpha value\n",
        "sns.lmplot(x='Age', y='Rating', data=df, x_jitter=1, scatter_kws={'alpha':.1})"
      ],
      "execution_count": null,
      "outputs": []
    },
    {
      "cell_type": "code",
      "metadata": {
        "id": "43RgXcQ8KZv0"
      },
      "source": [
        "sns.lmplot(x='Age', y='Rating', data=df, x_jitter=1, scatter_kws={'alpha':.1},\n",
        "          col='QTR', col_wrap=2)"
      ],
      "execution_count": null,
      "outputs": []
    },
    {
      "cell_type": "code",
      "metadata": {
        "id": "83iu9Xk1KZv8"
      },
      "source": [
        "sns.lmplot(x='Age', y='Rating', data=df, x_jitter=1, scatter_kws={'alpha':.3},\n",
        "           hue='QTR')"
      ],
      "execution_count": null,
      "outputs": []
    },
    {
      "cell_type": "code",
      "metadata": {
        "id": "G59WIg3MKZv8"
      },
      "source": [
        "# combine frequency and scatter plot\n",
        "sns.jointplot(x='Age', y='Rating', data=df)"
      ],
      "execution_count": null,
      "outputs": []
    },
    {
      "cell_type": "code",
      "metadata": {
        "id": "2WNroRvjKZv8"
      },
      "source": [
        "# combine frequency and scatter plot\n",
        "sns.jointplot(x='Age', y='Rating', data=df, kind='hex')"
      ],
      "execution_count": null,
      "outputs": []
    },
    {
      "cell_type": "code",
      "metadata": {
        "id": "SRig3Co2UchH"
      },
      "source": [
        "sns.pairplot(df)"
      ],
      "execution_count": null,
      "outputs": []
    },
    {
      "cell_type": "code",
      "metadata": {
        "id": "gRW7I63iKZv8"
      },
      "source": [
        "sns.heatmap(df.corr(), annot=True, cmap='RdBu', vmin=-1, vmax=1)"
      ],
      "execution_count": null,
      "outputs": []
    },
    {
      "cell_type": "code",
      "metadata": {
        "id": "7iqQzKdKKZv8"
      },
      "source": [
        "# 2D Categorical vs Continuous\n",
        "pd.pivot_table(df, values='Rating', index='AGEBIN', aggfunc='mean')"
      ],
      "execution_count": null,
      "outputs": []
    },
    {
      "cell_type": "code",
      "metadata": {
        "id": "gQm69v0bKZv8"
      },
      "source": [
        "# can also do this with a groupby\n",
        "(df\n",
        " .groupby('AGEBIN')\n",
        " [['Rating']]\n",
        " .mean()\n",
        ")"
      ],
      "execution_count": null,
      "outputs": []
    },
    {
      "cell_type": "code",
      "metadata": {
        "id": "e_KPX-IbKZv9"
      },
      "source": [
        "# can also do this with a groupby\n",
        "(df\n",
        " .groupby('AGEBIN')\n",
        " ['Rating']\n",
        " .describe()\n",
        ")"
      ],
      "execution_count": null,
      "outputs": []
    },
    {
      "cell_type": "code",
      "metadata": {
        "id": "amliE4IlKZv9"
      },
      "source": [
        "# 2D Categorical vs Continuous\n",
        "def custom(ser):\n",
        "    return ser.quantile(.99)\n",
        "\n",
        "pd.pivot_table(df, values='Rating', index='AGEBIN', \n",
        "               aggfunc=['min', 'mean', 'max', custom])"
      ],
      "execution_count": null,
      "outputs": []
    },
    {
      "cell_type": "code",
      "metadata": {
        "id": "AHEWuavtKZv9"
      },
      "source": [
        "# 2D Categorical vs Continuous Visualization\n",
        "sns.boxplot(x='AGEBIN', y='Rating', data=df)"
      ],
      "execution_count": null,
      "outputs": []
    },
    {
      "cell_type": "code",
      "metadata": {
        "id": "U8efxDPBKZv-"
      },
      "source": [
        "# 2D Categorical vs Continuous\n",
        "sns.violinplot(x='Age', y='Rating', data=df)"
      ],
      "execution_count": null,
      "outputs": []
    },
    {
      "cell_type": "code",
      "metadata": {
        "id": "aKdpeEpDKZv-"
      },
      "source": [
        "# 2D Categorical vs Continuous\n",
        "sns.boxenplot(x='Age', y='Rating', data=df)"
      ],
      "execution_count": null,
      "outputs": []
    },
    {
      "cell_type": "code",
      "metadata": {
        "id": "_wCKsh9bKZv-"
      },
      "source": [
        "ax = sns.catplot(x='Age', y='Rating', data=df)"
      ],
      "execution_count": null,
      "outputs": []
    },
    {
      "cell_type": "code",
      "metadata": {
        "id": "L1ArpX5YKZv-"
      },
      "source": [
        "ax = sns.catplot(x='Age', y='Rating', data=df, alpha=.3)"
      ],
      "execution_count": null,
      "outputs": []
    },
    {
      "cell_type": "code",
      "metadata": {
        "id": "T0bMDMhaKZv-"
      },
      "source": [
        "# Can add more dimensions with col, row\n",
        "ax = sns.catplot(x='Age', y='Rating', data=df, kind='boxen', col='QTR', col_wrap=2)"
      ],
      "execution_count": null,
      "outputs": []
    },
    {
      "cell_type": "code",
      "metadata": {
        "id": "8bvlMeq2KZv_"
      },
      "source": [
        ""
      ],
      "execution_count": null,
      "outputs": []
    },
    {
      "cell_type": "code",
      "metadata": {
        "id": "ZXGAtwosKZv_"
      },
      "source": [
        "# 2D Cat vs Cat"
      ],
      "execution_count": null,
      "outputs": []
    },
    {
      "cell_type": "code",
      "metadata": {
        "id": "cCgOkNA3KZv_"
      },
      "source": [
        "(df\n",
        " .pipe(lambda df: pd.crosstab(df.AGEBIN, df.Age))\n",
        ")"
      ],
      "execution_count": null,
      "outputs": []
    },
    {
      "cell_type": "code",
      "metadata": {
        "id": "Y0xkLKiBKZwA"
      },
      "source": [
        "# percent of occupation by country\n",
        "(df\n",
        " .pipe(lambda df2: pd.crosstab(df2.Weak_foot, df2.Age))\n",
        " .pipe(lambda df2: df2.div(df2.sum(axis=1), axis=0))\n",
        " .mul(100)\n",
        ")"
      ],
      "execution_count": null,
      "outputs": []
    },
    {
      "cell_type": "code",
      "metadata": {
        "id": "esHYREB0KZwB"
      },
      "source": [
        "# percent of country by occupation\n",
        "(df\n",
        " .pipe(lambda df2: pd.crosstab(df2.Weak_foot, df2.Age))\n",
        " .pipe(lambda df2: df2.div(df2.sum(axis=0), axis=1))\n",
        " .mul(100)\n",
        ")"
      ],
      "execution_count": null,
      "outputs": []
    },
    {
      "cell_type": "code",
      "metadata": {
        "id": "Vxk4ILXtKZwB"
      },
      "source": [
        "# add margin\n",
        "(df\n",
        " .pipe(lambda df2: pd.crosstab(df2.Weak_foot, df2.Age, margins=True))\n",
        ")"
      ],
      "execution_count": null,
      "outputs": []
    },
    {
      "cell_type": "code",
      "metadata": {
        "id": "3DZ-TdUEKZwB"
      },
      "source": [
        "(df\n",
        " .pipe(lambda df2: pd.crosstab(df2.Age, df2.Weak_foot))\n",
        " .plot.bar(stacked=True)\n",
        ")"
      ],
      "execution_count": null,
      "outputs": []
    },
    {
      "cell_type": "code",
      "metadata": {
        "id": "D1VhxsbyKZwB"
      },
      "source": [
        "# Normalize\n",
        "(df\n",
        " .pipe(lambda df2: pd.crosstab(df2.Age, df2.Weak_foot))\n",
        " .pipe(lambda df2: df2.div(df2.sum(axis=1), axis=0))\n",
        " .plot.bar(width=1, stacked=True)\n",
        ")"
      ],
      "execution_count": null,
      "outputs": []
    },
    {
      "cell_type": "code",
      "metadata": {
        "id": "6R9e4_yvKZwD"
      },
      "source": [
        ""
      ],
      "execution_count": null,
      "outputs": []
    },
    {
      "cell_type": "code",
      "metadata": {
        "id": "k3W3k1voKZwD"
      },
      "source": [
        ""
      ],
      "execution_count": null,
      "outputs": []
    },
    {
      "cell_type": "code",
      "metadata": {
        "lines_to_next_cell": 2,
        "id": "H4pHjwq6KZwE"
      },
      "source": [
        ""
      ],
      "execution_count": null,
      "outputs": []
    }
  ]
}